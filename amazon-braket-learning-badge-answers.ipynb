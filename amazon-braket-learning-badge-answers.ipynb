{
 "cells": [
  {
   "cell_type": "markdown",
   "metadata": {},
   "source": [
    "Single choice\n",
    "<h4>1) As a quantum computing researcher, you need to start academic quantum computing research with Amazon Braket, and you represent an organization with many researchers or multiple groups.</h4>\n",
    "\n",
    "<h4>What should you consider for your quantum research?</h4>\n",
    "\n",
    " - Contact Amazon Braket via social media to discuss a collaboration agreement to enable research teams to advance your research with AWS.\n",
    " - <span style=\"color:green\">Apply to the AWS Cloud Credit for Research Program to get cloud credits for research.</span>\n",
    "\n",
    " - Academic quantum computing researchers are not eligible to apply for quantum computing research programs on Amazon Braket.\n",
    " - Apply to AWS Free Tier to get cloud credits for quantum research."
   ]
  },
  {
   "cell_type": "markdown",
   "metadata": {
    "vscode": {
     "languageId": "plaintext"
    }
   },
   "source": [
    "Multiple Choice\n",
    "<h4>2) Analog Hamiltonian simulation (AHS) is a quantum programming paradigm distinct from quantum circuits. You are preparing a slide deck describing how this paradigm works on Amazon Braket.\n",
    "\n",
    "Which two steps will you list as necessary to create an analog Hamiltonian simulation program? (Select the TWO correct answers),</h4>\n",
    "\n",
    "- <span style=\"color:blue\">Specify the quantum register.</span>\n",
    "- <span style=\"color:blue\">Specify the quantum evolution.</span>\n",
    "- Specify the qubit connectivity graph.\n",
    "- Select the desired calibration data to be used.\n",
    "- Set the number of shots."
   ]
  },
  {
   "cell_type": "markdown",
   "metadata": {},
   "source": []
  },
  {
   "cell_type": "markdown",
   "metadata": {
    "vscode": {
     "languageId": "plaintext"
    }
   },
   "source": [
    "Single choice\n",
    "<h4>3) As a quantum computing researcher, you want to use Amazon Braket to run a quantum program on a QPU.\n",
    "\n",
    "What do you need to access quantum devices?</h4>\n",
    "\n",
    "- You need the quantum device name.\n",
    "- You need to use a local simulator.\n",
    "- <span style=\"color:green\">You need the quantum device Amazon Resource Name (ARN).</span>\n",
    "- You need the quantum device availability windows."
   ]
  },
  {
   "cell_type": "markdown",
   "metadata": {},
   "source": [
    "Multiple Choice\n",
    "<h4>4) A quantum researcher wants to profile how many shots to set when running a small quantum circuit on Rigetti Aspen M-3 so that the accuracy of the results is not limited by finite sampling.\n",
    "\n",
    "Which simulators are best fitted for such profiling? (Select TWO)</h4>\n",
    "\n",
    "- SV1\n",
    "- <span style=\"color:green\">Local state vector simulator</span>\n",
    "- TN1\n",
    "- Rigetti Aspen M-3\n",
    "- <span style=\"color:green\">Local density matrix simulator</span>\n"
   ]
  },
  {
   "cell_type": "markdown",
   "metadata": {},
   "source": [
    "Single choice\n",
    "<h4>5)As a quantum computing researcher, you want to explore Amazon Braket on-demand simulators.\n",
    "\n",
    "Which Amazon Braket on-demand simulators are AWS Free Tier eligible, and what are the specified limits?</h4>\n",
    "\n",
    "- Two free hours of quantum circuit simulation time per month for on-demand simulators SV1, DM1, and TN1.\n",
    "- Three free hours of quantum circuit simulation time per year for on-demand simulators SV1, DM1, and TN1.\n",
    "- <span style=\"color:green\">One free hour of quantum circuit simulation time per month for any combination of SV1, DM1, and TN1 managed quantum circuit simulators.</span>\n",
    "- One year of quantum circuit simulation time per month for on-demand simulators SV1, DM1, and TN1."
   ]
  },
  {
   "cell_type": "markdown",
   "metadata": {},
   "source": []
  }
 ],
 "metadata": {
  "language_info": {
   "name": "python"
  }
 },
 "nbformat": 4,
 "nbformat_minor": 2
}
